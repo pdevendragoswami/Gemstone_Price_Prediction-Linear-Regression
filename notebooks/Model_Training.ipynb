{
 "cells": [
  {
   "cell_type": "code",
   "execution_count": 1,
   "metadata": {},
   "outputs": [],
   "source": [
    "import pandas as pd\n",
    "from sklearn.preprocessing import StandardScaler\n",
    "from sklearn.preprocessing import OrdinalEncoder\n",
    "from sklearn.model_selection import train_test_split\n",
    "from sklearn.linear_model import  LinearRegression,Lasso,Ridge,ElasticNet\n",
    "from sklearn.impute import SimpleImputer\n",
    "from sklearn.pipeline import Pipeline\n",
    "from sklearn.compose import ColumnTransformer\n"
   ]
  },
  {
   "cell_type": "code",
   "execution_count": 2,
   "metadata": {},
   "outputs": [],
   "source": [
    "df = pd.read_csv('data/data.csv')"
   ]
  },
  {
   "cell_type": "code",
   "execution_count": 3,
   "metadata": {},
   "outputs": [
    {
     "data": {
      "text/html": [
       "<div>\n",
       "<style scoped>\n",
       "    .dataframe tbody tr th:only-of-type {\n",
       "        vertical-align: middle;\n",
       "    }\n",
       "\n",
       "    .dataframe tbody tr th {\n",
       "        vertical-align: top;\n",
       "    }\n",
       "\n",
       "    .dataframe thead th {\n",
       "        text-align: right;\n",
       "    }\n",
       "</style>\n",
       "<table border=\"1\" class=\"dataframe\">\n",
       "  <thead>\n",
       "    <tr style=\"text-align: right;\">\n",
       "      <th></th>\n",
       "      <th>id</th>\n",
       "      <th>carat</th>\n",
       "      <th>cut</th>\n",
       "      <th>color</th>\n",
       "      <th>clarity</th>\n",
       "      <th>depth</th>\n",
       "      <th>table</th>\n",
       "      <th>x</th>\n",
       "      <th>y</th>\n",
       "      <th>z</th>\n",
       "      <th>price</th>\n",
       "    </tr>\n",
       "  </thead>\n",
       "  <tbody>\n",
       "    <tr>\n",
       "      <th>0</th>\n",
       "      <td>0</td>\n",
       "      <td>1.52</td>\n",
       "      <td>Premium</td>\n",
       "      <td>F</td>\n",
       "      <td>VS2</td>\n",
       "      <td>62.2</td>\n",
       "      <td>58.0</td>\n",
       "      <td>7.27</td>\n",
       "      <td>7.33</td>\n",
       "      <td>4.55</td>\n",
       "      <td>13619</td>\n",
       "    </tr>\n",
       "    <tr>\n",
       "      <th>1</th>\n",
       "      <td>1</td>\n",
       "      <td>2.03</td>\n",
       "      <td>Very Good</td>\n",
       "      <td>J</td>\n",
       "      <td>SI2</td>\n",
       "      <td>62.0</td>\n",
       "      <td>58.0</td>\n",
       "      <td>8.06</td>\n",
       "      <td>8.12</td>\n",
       "      <td>5.05</td>\n",
       "      <td>13387</td>\n",
       "    </tr>\n",
       "    <tr>\n",
       "      <th>2</th>\n",
       "      <td>2</td>\n",
       "      <td>0.70</td>\n",
       "      <td>Ideal</td>\n",
       "      <td>G</td>\n",
       "      <td>VS1</td>\n",
       "      <td>61.2</td>\n",
       "      <td>57.0</td>\n",
       "      <td>5.69</td>\n",
       "      <td>5.73</td>\n",
       "      <td>3.50</td>\n",
       "      <td>2772</td>\n",
       "    </tr>\n",
       "    <tr>\n",
       "      <th>3</th>\n",
       "      <td>3</td>\n",
       "      <td>0.32</td>\n",
       "      <td>Ideal</td>\n",
       "      <td>G</td>\n",
       "      <td>VS1</td>\n",
       "      <td>61.6</td>\n",
       "      <td>56.0</td>\n",
       "      <td>4.38</td>\n",
       "      <td>4.41</td>\n",
       "      <td>2.71</td>\n",
       "      <td>666</td>\n",
       "    </tr>\n",
       "    <tr>\n",
       "      <th>4</th>\n",
       "      <td>4</td>\n",
       "      <td>1.70</td>\n",
       "      <td>Premium</td>\n",
       "      <td>G</td>\n",
       "      <td>VS2</td>\n",
       "      <td>62.6</td>\n",
       "      <td>59.0</td>\n",
       "      <td>7.65</td>\n",
       "      <td>7.61</td>\n",
       "      <td>4.77</td>\n",
       "      <td>14453</td>\n",
       "    </tr>\n",
       "  </tbody>\n",
       "</table>\n",
       "</div>"
      ],
      "text/plain": [
       "   id  carat        cut color clarity  depth  table     x     y     z  price\n",
       "0   0   1.52    Premium     F     VS2   62.2   58.0  7.27  7.33  4.55  13619\n",
       "1   1   2.03  Very Good     J     SI2   62.0   58.0  8.06  8.12  5.05  13387\n",
       "2   2   0.70      Ideal     G     VS1   61.2   57.0  5.69  5.73  3.50   2772\n",
       "3   3   0.32      Ideal     G     VS1   61.6   56.0  4.38  4.41  2.71    666\n",
       "4   4   1.70    Premium     G     VS2   62.6   59.0  7.65  7.61  4.77  14453"
      ]
     },
     "execution_count": 3,
     "metadata": {},
     "output_type": "execute_result"
    }
   ],
   "source": [
    "df.head()"
   ]
  },
  {
   "cell_type": "code",
   "execution_count": 4,
   "metadata": {},
   "outputs": [],
   "source": [
    "df.drop('id',axis=1,inplace=True)"
   ]
  },
  {
   "cell_type": "code",
   "execution_count": 5,
   "metadata": {},
   "outputs": [],
   "source": [
    "X = df.iloc[:,:-1]"
   ]
  },
  {
   "cell_type": "code",
   "execution_count": 6,
   "metadata": {},
   "outputs": [],
   "source": [
    "y = df.iloc[:,[-1]]"
   ]
  },
  {
   "cell_type": "code",
   "execution_count": 7,
   "metadata": {},
   "outputs": [
    {
     "data": {
      "text/plain": [
       "['carat', 'depth', 'table', 'x', 'y', 'z']"
      ]
     },
     "execution_count": 7,
     "metadata": {},
     "output_type": "execute_result"
    }
   ],
   "source": [
    "numerical_cols = list(X.dtypes[X.dtypes!='O'].index)\n",
    "numerical_cols"
   ]
  },
  {
   "cell_type": "code",
   "execution_count": 8,
   "metadata": {},
   "outputs": [
    {
     "data": {
      "text/plain": [
       "['cut', 'color', 'clarity']"
      ]
     },
     "execution_count": 8,
     "metadata": {},
     "output_type": "execute_result"
    }
   ],
   "source": [
    "categorical_cols = list(X.dtypes[X.dtypes=='O'].index)\n",
    "categorical_cols"
   ]
  },
  {
   "cell_type": "code",
   "execution_count": 9,
   "metadata": {},
   "outputs": [],
   "source": [
    "# Define the custom ranking for each ordinal variable\n",
    "cut_categories = ['Fair', 'Good', 'Very Good','Premium','Ideal']\n",
    "color_categories = ['D', 'E', 'F', 'G', 'H', 'I', 'J']\n",
    "clarity_categories = ['I1','SI2','SI1','VS2','VS1','VVS2','VVS1','IF']"
   ]
  },
  {
   "cell_type": "code",
   "execution_count": 10,
   "metadata": {},
   "outputs": [],
   "source": [
    "numerical_pipeline = Pipeline(\n",
    "    steps = [\n",
    "        ('imputer',SimpleImputer(strategy='median')),\n",
    "        ('scaler',StandardScaler())\n",
    "    ]\n",
    ")\n",
    "\n",
    "categorical_pipeline = Pipeline(\n",
    "    steps = [\n",
    "        ('imputer',SimpleImputer(strategy='most_frequent')),\n",
    "        ('ordinalencoder',OrdinalEncoder(categories=[cut_categories,color_categories,clarity_categories])),\n",
    "        ('scaler',StandardScaler())\n",
    "    ]\n",
    ")\n",
    "\n"
   ]
  },
  {
   "cell_type": "code",
   "execution_count": 11,
   "metadata": {},
   "outputs": [],
   "source": [
    "preprocessor = ColumnTransformer([\n",
    "    ('numerical_pipeline',numerical_pipeline,numerical_cols),\n",
    "    ('categorical_pipeline',categorical_pipeline,categorical_cols)\n",
    "])"
   ]
  },
  {
   "cell_type": "code",
   "execution_count": 12,
   "metadata": {},
   "outputs": [],
   "source": [
    "from sklearn.model_selection import train_test_split\n",
    "X_train,X_test,y_train,y_test = train_test_split(X,y,test_size=0.25,random_state=1)"
   ]
  },
  {
   "cell_type": "code",
   "execution_count": 13,
   "metadata": {},
   "outputs": [],
   "source": [
    "X_train = pd.DataFrame(preprocessor.fit_transform(X_train),columns=preprocessor.get_feature_names_out())\n",
    "X_test = pd.DataFrame(preprocessor.transform(X_test),columns=preprocessor.get_feature_names_out())"
   ]
  },
  {
   "cell_type": "code",
   "execution_count": 14,
   "metadata": {},
   "outputs": [
    {
     "data": {
      "text/html": [
       "<div>\n",
       "<style scoped>\n",
       "    .dataframe tbody tr th:only-of-type {\n",
       "        vertical-align: middle;\n",
       "    }\n",
       "\n",
       "    .dataframe tbody tr th {\n",
       "        vertical-align: top;\n",
       "    }\n",
       "\n",
       "    .dataframe thead th {\n",
       "        text-align: right;\n",
       "    }\n",
       "</style>\n",
       "<table border=\"1\" class=\"dataframe\">\n",
       "  <thead>\n",
       "    <tr style=\"text-align: right;\">\n",
       "      <th></th>\n",
       "      <th>numerical_pipeline__carat</th>\n",
       "      <th>numerical_pipeline__depth</th>\n",
       "      <th>numerical_pipeline__table</th>\n",
       "      <th>numerical_pipeline__x</th>\n",
       "      <th>numerical_pipeline__y</th>\n",
       "      <th>numerical_pipeline__z</th>\n",
       "      <th>categorical_pipeline__cut</th>\n",
       "      <th>categorical_pipeline__color</th>\n",
       "      <th>categorical_pipeline__clarity</th>\n",
       "    </tr>\n",
       "  </thead>\n",
       "  <tbody>\n",
       "    <tr>\n",
       "      <th>0</th>\n",
       "      <td>-0.844417</td>\n",
       "      <td>0.168517</td>\n",
       "      <td>-1.161714</td>\n",
       "      <td>-0.861366</td>\n",
       "      <td>-0.880279</td>\n",
       "      <td>-0.851571</td>\n",
       "      <td>0.872832</td>\n",
       "      <td>-0.937070</td>\n",
       "      <td>-0.647863</td>\n",
       "    </tr>\n",
       "    <tr>\n",
       "      <th>1</th>\n",
       "      <td>-0.153743</td>\n",
       "      <td>-0.847856</td>\n",
       "      <td>-0.119350</td>\n",
       "      <td>0.039220</td>\n",
       "      <td>0.071402</td>\n",
       "      <td>-0.006798</td>\n",
       "      <td>0.872832</td>\n",
       "      <td>-1.552691</td>\n",
       "      <td>0.018795</td>\n",
       "    </tr>\n",
       "    <tr>\n",
       "      <th>2</th>\n",
       "      <td>0.774350</td>\n",
       "      <td>0.722902</td>\n",
       "      <td>-0.640532</td>\n",
       "      <td>0.912787</td>\n",
       "      <td>0.878065</td>\n",
       "      <td>0.954496</td>\n",
       "      <td>0.872832</td>\n",
       "      <td>-1.552691</td>\n",
       "      <td>-1.314520</td>\n",
       "    </tr>\n",
       "    <tr>\n",
       "      <th>3</th>\n",
       "      <td>-1.060252</td>\n",
       "      <td>0.260914</td>\n",
       "      <td>-1.682896</td>\n",
       "      <td>-1.266629</td>\n",
       "      <td>-1.251887</td>\n",
       "      <td>-1.230263</td>\n",
       "      <td>0.872832</td>\n",
       "      <td>0.294171</td>\n",
       "      <td>2.018768</td>\n",
       "    </tr>\n",
       "    <tr>\n",
       "      <th>4</th>\n",
       "      <td>0.644849</td>\n",
       "      <td>-0.201073</td>\n",
       "      <td>-0.119350</td>\n",
       "      <td>0.822729</td>\n",
       "      <td>0.859938</td>\n",
       "      <td>0.823410</td>\n",
       "      <td>0.872832</td>\n",
       "      <td>-0.321450</td>\n",
       "      <td>-1.314520</td>\n",
       "    </tr>\n",
       "    <tr>\n",
       "      <th>...</th>\n",
       "      <td>...</td>\n",
       "      <td>...</td>\n",
       "      <td>...</td>\n",
       "      <td>...</td>\n",
       "      <td>...</td>\n",
       "      <td>...</td>\n",
       "      <td>...</td>\n",
       "      <td>...</td>\n",
       "      <td>...</td>\n",
       "    </tr>\n",
       "    <tr>\n",
       "      <th>145174</th>\n",
       "      <td>-0.822833</td>\n",
       "      <td>0.907697</td>\n",
       "      <td>-0.119350</td>\n",
       "      <td>-0.897389</td>\n",
       "      <td>-0.889342</td>\n",
       "      <td>-0.822441</td>\n",
       "      <td>-1.142722</td>\n",
       "      <td>-1.552691</td>\n",
       "      <td>0.685453</td>\n",
       "    </tr>\n",
       "    <tr>\n",
       "      <th>145175</th>\n",
       "      <td>-0.844417</td>\n",
       "      <td>0.076119</td>\n",
       "      <td>-1.161714</td>\n",
       "      <td>-0.888383</td>\n",
       "      <td>-0.880279</td>\n",
       "      <td>-0.866136</td>\n",
       "      <td>0.872832</td>\n",
       "      <td>-0.321450</td>\n",
       "      <td>2.018768</td>\n",
       "    </tr>\n",
       "    <tr>\n",
       "      <th>145176</th>\n",
       "      <td>-0.887584</td>\n",
       "      <td>0.353312</td>\n",
       "      <td>-0.640532</td>\n",
       "      <td>-0.969436</td>\n",
       "      <td>-0.952788</td>\n",
       "      <td>-0.938962</td>\n",
       "      <td>0.872832</td>\n",
       "      <td>-0.321450</td>\n",
       "      <td>2.018768</td>\n",
       "    </tr>\n",
       "    <tr>\n",
       "      <th>145177</th>\n",
       "      <td>-0.153743</td>\n",
       "      <td>0.168517</td>\n",
       "      <td>-1.265950</td>\n",
       "      <td>0.012202</td>\n",
       "      <td>0.035148</td>\n",
       "      <td>0.036897</td>\n",
       "      <td>0.872832</td>\n",
       "      <td>-0.321450</td>\n",
       "      <td>0.018795</td>\n",
       "    </tr>\n",
       "    <tr>\n",
       "      <th>145178</th>\n",
       "      <td>-0.995501</td>\n",
       "      <td>0.445710</td>\n",
       "      <td>-1.682896</td>\n",
       "      <td>-1.239611</td>\n",
       "      <td>-1.224696</td>\n",
       "      <td>-1.186568</td>\n",
       "      <td>0.872832</td>\n",
       "      <td>0.294171</td>\n",
       "      <td>0.018795</td>\n",
       "    </tr>\n",
       "  </tbody>\n",
       "</table>\n",
       "<p>145179 rows × 9 columns</p>\n",
       "</div>"
      ],
      "text/plain": [
       "        numerical_pipeline__carat  numerical_pipeline__depth  \\\n",
       "0                       -0.844417                   0.168517   \n",
       "1                       -0.153743                  -0.847856   \n",
       "2                        0.774350                   0.722902   \n",
       "3                       -1.060252                   0.260914   \n",
       "4                        0.644849                  -0.201073   \n",
       "...                           ...                        ...   \n",
       "145174                  -0.822833                   0.907697   \n",
       "145175                  -0.844417                   0.076119   \n",
       "145176                  -0.887584                   0.353312   \n",
       "145177                  -0.153743                   0.168517   \n",
       "145178                  -0.995501                   0.445710   \n",
       "\n",
       "        numerical_pipeline__table  numerical_pipeline__x  \\\n",
       "0                       -1.161714              -0.861366   \n",
       "1                       -0.119350               0.039220   \n",
       "2                       -0.640532               0.912787   \n",
       "3                       -1.682896              -1.266629   \n",
       "4                       -0.119350               0.822729   \n",
       "...                           ...                    ...   \n",
       "145174                  -0.119350              -0.897389   \n",
       "145175                  -1.161714              -0.888383   \n",
       "145176                  -0.640532              -0.969436   \n",
       "145177                  -1.265950               0.012202   \n",
       "145178                  -1.682896              -1.239611   \n",
       "\n",
       "        numerical_pipeline__y  numerical_pipeline__z  \\\n",
       "0                   -0.880279              -0.851571   \n",
       "1                    0.071402              -0.006798   \n",
       "2                    0.878065               0.954496   \n",
       "3                   -1.251887              -1.230263   \n",
       "4                    0.859938               0.823410   \n",
       "...                       ...                    ...   \n",
       "145174              -0.889342              -0.822441   \n",
       "145175              -0.880279              -0.866136   \n",
       "145176              -0.952788              -0.938962   \n",
       "145177               0.035148               0.036897   \n",
       "145178              -1.224696              -1.186568   \n",
       "\n",
       "        categorical_pipeline__cut  categorical_pipeline__color  \\\n",
       "0                        0.872832                    -0.937070   \n",
       "1                        0.872832                    -1.552691   \n",
       "2                        0.872832                    -1.552691   \n",
       "3                        0.872832                     0.294171   \n",
       "4                        0.872832                    -0.321450   \n",
       "...                           ...                          ...   \n",
       "145174                  -1.142722                    -1.552691   \n",
       "145175                   0.872832                    -0.321450   \n",
       "145176                   0.872832                    -0.321450   \n",
       "145177                   0.872832                    -0.321450   \n",
       "145178                   0.872832                     0.294171   \n",
       "\n",
       "        categorical_pipeline__clarity  \n",
       "0                           -0.647863  \n",
       "1                            0.018795  \n",
       "2                           -1.314520  \n",
       "3                            2.018768  \n",
       "4                           -1.314520  \n",
       "...                               ...  \n",
       "145174                       0.685453  \n",
       "145175                       2.018768  \n",
       "145176                       2.018768  \n",
       "145177                       0.018795  \n",
       "145178                       0.018795  \n",
       "\n",
       "[145179 rows x 9 columns]"
      ]
     },
     "execution_count": 14,
     "metadata": {},
     "output_type": "execute_result"
    }
   ],
   "source": [
    "X_train"
   ]
  },
  {
   "cell_type": "code",
   "execution_count": 15,
   "metadata": {},
   "outputs": [],
   "source": [
    "from sklearn.linear_model import LinearRegression,Lasso,Ridge,ElasticNet\n",
    "from sklearn.metrics import r2_score,mean_squared_error,mean_absolute_error"
   ]
  },
  {
   "cell_type": "code",
   "execution_count": 16,
   "metadata": {},
   "outputs": [],
   "source": [
    "models = {\n",
    "    'LinearRegression':LinearRegression(),\n",
    "    'Lasso':Lasso(),\n",
    "    'Ridge':Ridge(),\n",
    "    'ElasticNet':ElasticNet()\n",
    "}"
   ]
  },
  {
   "cell_type": "code",
   "execution_count": 17,
   "metadata": {},
   "outputs": [],
   "source": [
    "def evaluate_model(models,X_train,X_test,y_train,y_test):\n",
    "    reports = {}\n",
    "    for i in range(len(models)):\n",
    "        model = list(models.values())[i]\n",
    "        model.fit(X_train,y_train)\n",
    "        y_pred = model.predict(X_test)\n",
    "\n",
    "        r2_value = r2_score(y_test,y_pred)\n",
    "\n",
    "        reports[list(models.keys())[i]] = r2_value\n",
    "    \n",
    "\n",
    "    best_model_score = max(list(reports.values()))\n",
    "\n",
    "    best_model_name = list(reports.keys())[list(reports.values()).index(best_model_score)]\n",
    "\n",
    "    return (f'Best Model Name:{best_model_name},Best Model Score : {best_model_score}')\n",
    "\n"
   ]
  },
  {
   "cell_type": "code",
   "execution_count": 18,
   "metadata": {},
   "outputs": [],
   "source": [
    "a = evaluate_model(models,X_train,X_test,y_train,y_test)\n"
   ]
  },
  {
   "cell_type": "code",
   "execution_count": 19,
   "metadata": {},
   "outputs": [
    {
     "data": {
      "text/plain": [
       "'Best Model Name:Lasso,Best Model Score : 0.9370467381780303'"
      ]
     },
     "execution_count": 19,
     "metadata": {},
     "output_type": "execute_result"
    }
   ],
   "source": [
    "a"
   ]
  },
  {
   "cell_type": "code",
   "execution_count": null,
   "metadata": {},
   "outputs": [],
   "source": []
  }
 ],
 "metadata": {
  "kernelspec": {
   "display_name": "Python 3.8.10 64-bit",
   "language": "python",
   "name": "python3"
  },
  "language_info": {
   "codemirror_mode": {
    "name": "ipython",
    "version": 3
   },
   "file_extension": ".py",
   "mimetype": "text/x-python",
   "name": "python",
   "nbconvert_exporter": "python",
   "pygments_lexer": "ipython3",
   "version": "3.8.10"
  },
  "orig_nbformat": 4,
  "vscode": {
   "interpreter": {
    "hash": "e7370f93d1d0cde622a1f8e1c04877d8463912d04d973331ad4851f04de6915a"
   }
  }
 },
 "nbformat": 4,
 "nbformat_minor": 2
}
